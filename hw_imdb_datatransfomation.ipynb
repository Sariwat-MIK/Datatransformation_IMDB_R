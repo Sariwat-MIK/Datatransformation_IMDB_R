{
  "nbformat": 4,
  "nbformat_minor": 0,
  "metadata": {
    "colab": {
      "provenance": [],
      "include_colab_link": true
    },
    "kernelspec": {
      "name": "ir",
      "display_name": "R"
    },
    "language_info": {
      "name": "R"
    }
  },
  "cells": [
    {
      "cell_type": "markdown",
      "metadata": {
        "id": "view-in-github",
        "colab_type": "text"
      },
      "source": [
        "<a href=\"https://colab.research.google.com/github/Sariwat-MIK/Datatransformation_IMDB_R/blob/main/hw_imdb_datatransfomation.ipynb\" target=\"_parent\"><img src=\"https://colab.research.google.com/assets/colab-badge.svg\" alt=\"Open In Colab\"/></a>"
      ]
    },
    {
      "cell_type": "code",
      "execution_count": null,
      "metadata": {
        "id": "6QpdOoruZ17s"
      },
      "outputs": [],
      "source": [
        "library(dplyr)\n",
        "library(tidyverse)\n",
        "library(rvest)"
      ]
    },
    {
      "cell_type": "code",
      "source": [
        "url <- \"https://www.imdb.com/search/title/?groups=top_100&sort=user_rating,desc\"\n",
        "\n",
        "Name_Movie <- url %>%\n",
        "                                    read_html() %>%\n",
        "                                    html_nodes(\"h3.lister-item-header\") %>%\n",
        "                                    html_text2()     #clean data\n"
      ],
      "metadata": {
        "id": "YZQxVkuDaQB1"
      },
      "execution_count": null,
      "outputs": []
    },
    {
      "cell_type": "code",
      "source": [
        "Score_IMDB_Movie <- url %>%\n",
        "                                    read_html() %>%\n",
        "                                    html_elements(\"div.ratings-imdb-rating\") %>%\n",
        "                                    html_text2()%>%\n",
        "                                    as.numeric()"
      ],
      "metadata": {
        "id": "-x5OiiLdpftK"
      },
      "execution_count": null,
      "outputs": []
    },
    {
      "cell_type": "code",
      "source": [
        "Lenght_Movie <- url %>%\n",
        "                                    read_html() %>%\n",
        "                                    html_elements(\"span.runtime\") %>%\n",
        "                                    html_text2()\n",
        "\n",
        "Lenght_Movie_Numeric <- grep(\"^1\",Lenght_Movie,ignore.case = TRUE)\n",
        "\n",
        "Lenght_Movie[Lenght_Movie_Numeric ]\n"
      ],
      "metadata": {
        "id": "-nCsPvrmxAmK"
      },
      "execution_count": null,
      "outputs": []
    },
    {
      "cell_type": "code",
      "source": [
        "Genre_Movie <- url %>%\n",
        "                                    read_html() %>%\n",
        "                                    html_elements(\"span.genre\") %>%\n",
        "                                    html_text2()\n"
      ],
      "metadata": {
        "id": "ezftkqfTxpDR"
      },
      "execution_count": null,
      "outputs": []
    },
    {
      "cell_type": "code",
      "source": [
        "df <- data.frame(Name_Movie,Score_IMDB_Movie,Lenght_Movie,Genre_Movie)\n",
        "\n",
        "The_Best_Movie_Select <- df %>%\n",
        "                                             select(Name_Movie,Score_IMDB_Movie,Lenght_Movie,Genre_Movie) %>%\n",
        "                                             filter(grepl(\"Drama\",df$Genre_Movie) & (df$Score_IMDB_Movie >= 9.0) & (df$Lenght_Movie == Lenght_Movie[Lenght_Movie_Numeric ])) %>%\n",
        "                                             arrange(Score_IMDB_Movie) %>%\n",
        "                                             mutate(Percent_Score_IMDB = Score_IMDB_Movie * 10)\n",
        "\n",
        "View(The_Best_Movie_Select)"
      ],
      "metadata": {
        "id": "4TNfON3fZ_He",
        "colab": {
          "base_uri": "https://localhost:8080/",
          "height": 310
        },
        "outputId": "7a416dc2-93a9-4bba-ff24-897c2dbd1b8f"
      },
      "execution_count": null,
      "outputs": [
        {
          "output_type": "stream",
          "name": "stderr",
          "text": [
            "Warning message:\n",
            "“\u001b[1m\u001b[22mThere was 1 warning in `filter()`.\n",
            "\u001b[1m\u001b[22m\u001b[36mℹ\u001b[39m In argument: `&...`.\n",
            "Caused by warning in `df$Lenght_Movie == Lenght_Movie[Lenght_Movie_Numeric]`:\n",
            "\u001b[33m!\u001b[39m longer object length is not a multiple of shorter object length”\n"
          ]
        },
        {
          "output_type": "display_data",
          "data": {
            "text/plain": [
              "  Name_Movie                         Score_IMDB_Movie Lenght_Movie\n",
              "1 3. The Dark Knight (2008)          9.0              152 min     \n",
              "2 4. Schindler's List (1993)         9.0              195 min     \n",
              "3 2. The Godfather (1972)            9.2              175 min     \n",
              "4 1. The Shawshank Redemption (1994) 9.3              142 min     \n",
              "  Genre_Movie               Percent_Score_IMDB\n",
              "1 Action, Crime, Drama      90                \n",
              "2 Biography, Drama, History 90                \n",
              "3 Crime, Drama              92                \n",
              "4 Drama                     93                "
            ],
            "text/html": [
              "<table class=\"dataframe\">\n",
              "<caption>A data.frame: 4 × 5</caption>\n",
              "<thead>\n",
              "\t<tr><th scope=col>Name_Movie</th><th scope=col>Score_IMDB_Movie</th><th scope=col>Lenght_Movie</th><th scope=col>Genre_Movie</th><th scope=col>Percent_Score_IMDB</th></tr>\n",
              "\t<tr><th scope=col>&lt;chr&gt;</th><th scope=col>&lt;dbl&gt;</th><th scope=col>&lt;chr&gt;</th><th scope=col>&lt;chr&gt;</th><th scope=col>&lt;dbl&gt;</th></tr>\n",
              "</thead>\n",
              "<tbody>\n",
              "\t<tr><td>3. The Dark Knight (2008)         </td><td>9.0</td><td>152 min</td><td>Action, Crime, Drama     </td><td>90</td></tr>\n",
              "\t<tr><td>4. Schindler's List (1993)        </td><td>9.0</td><td>195 min</td><td>Biography, Drama, History</td><td>90</td></tr>\n",
              "\t<tr><td>2. The Godfather (1972)           </td><td>9.2</td><td>175 min</td><td>Crime, Drama             </td><td>92</td></tr>\n",
              "\t<tr><td>1. The Shawshank Redemption (1994)</td><td>9.3</td><td>142 min</td><td>Drama                    </td><td>93</td></tr>\n",
              "</tbody>\n",
              "</table>\n"
            ],
            "text/markdown": "\nA data.frame: 4 × 5\n\n| Name_Movie &lt;chr&gt; | Score_IMDB_Movie &lt;dbl&gt; | Lenght_Movie &lt;chr&gt; | Genre_Movie &lt;chr&gt; | Percent_Score_IMDB &lt;dbl&gt; |\n|---|---|---|---|---|\n| 3. The Dark Knight (2008)          | 9.0 | 152 min | Action, Crime, Drama      | 90 |\n| 4. Schindler's List (1993)         | 9.0 | 195 min | Biography, Drama, History | 90 |\n| 2. The Godfather (1972)            | 9.2 | 175 min | Crime, Drama              | 92 |\n| 1. The Shawshank Redemption (1994) | 9.3 | 142 min | Drama                     | 93 |\n\n",
            "text/latex": "A data.frame: 4 × 5\n\\begin{tabular}{lllll}\n Name\\_Movie & Score\\_IMDB\\_Movie & Lenght\\_Movie & Genre\\_Movie & Percent\\_Score\\_IMDB\\\\\n <chr> & <dbl> & <chr> & <chr> & <dbl>\\\\\n\\hline\n\t 3. The Dark Knight (2008)          & 9.0 & 152 min & Action, Crime, Drama      & 90\\\\\n\t 4. Schindler's List (1993)         & 9.0 & 195 min & Biography, Drama, History & 90\\\\\n\t 2. The Godfather (1972)            & 9.2 & 175 min & Crime, Drama              & 92\\\\\n\t 1. The Shawshank Redemption (1994) & 9.3 & 142 min & Drama                     & 93\\\\\n\\end{tabular}\n"
          },
          "metadata": {}
        }
      ]
    }
  ]
}